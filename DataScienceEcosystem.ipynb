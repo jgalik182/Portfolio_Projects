{
 "cells": [
  {
   "cell_type": "markdown",
   "id": "ea95ced7-a38d-4c8e-9fb7-e8c05645db69",
   "metadata": {},
   "source": [
    "# Data Science Tools and Ecosystem"
   ]
  },
  {
   "cell_type": "markdown",
   "id": "fcd879e8-e916-4792-af72-5d95487d82d8",
   "metadata": {},
   "source": [
    "### In this notebook, Data Science Tools and Ecosystem are summarized."
   ]
  },
  {
   "cell_type": "markdown",
   "id": "8f2e799f-e97f-4748-b0e3-0fd3ded784db",
   "metadata": {},
   "source": [
    "Some of the popular languages that Data Scientists use are:\n",
    "1. Python\n",
    "2. R\n",
    "3. SQL\n",
    "4. C++"
   ]
  },
  {
   "cell_type": "markdown",
   "id": "9ec137aa-ad46-49fe-a04d-1293ed236305",
   "metadata": {},
   "source": [
    "Some of the commonly used libraries used by Data Scientists include:\n",
    "1. NumPy\n",
    "2. SciPi\n",
    "3. Matplotlib\n",
    "4. Pandas"
   ]
  },
  {
   "cell_type": "markdown",
   "id": "32e989ce-6666-44dc-82e3-26232e307113",
   "metadata": {},
   "source": [
    "|Data Science Tools|\n",
    "|---|\n",
    "|Apache Hadoop|\n",
    "|SAS|\n",
    "|TensorFlow|"
   ]
  },
  {
   "cell_type": "markdown",
   "id": "396ae0bd-3e44-4a76-a826-ae3630217745",
   "metadata": {},
   "source": [
    "### Below are a few examples of evaluating arithmetic expressions in Python"
   ]
  },
  {
   "cell_type": "markdown",
   "id": "b7d9555f-e6dc-4367-80e1-e10b1a508055",
   "metadata": {},
   "source": [
    "#This a simple arithmetic expression to mutiply then add integers\n",
    "(3*4)+5"
   ]
  },
  {
   "cell_type": "markdown",
   "id": "d4bee040-e8d5-4eb5-9c4e-6bf30dd8b0ee",
   "metadata": {},
   "source": [
    "#This a simple arithmetic expression to mutiply then add integers\n",
    "(3*4)+5"
   ]
  },
  {
   "cell_type": "code",
   "execution_count": 2,
   "id": "09e38a9b-0bb8-4921-ae86-ede812b7da30",
   "metadata": {},
   "outputs": [
    {
     "data": {
      "text/plain": [
       "17"
      ]
     },
     "execution_count": 2,
     "metadata": {},
     "output_type": "execute_result"
    }
   ],
   "source": [
    "#This a simple arithmetic expression to mutiply then add integers\n",
    "(3*4)+5"
   ]
  },
  {
   "cell_type": "code",
   "execution_count": 3,
   "id": "86ae4e89-649d-49fb-a27e-d2858c67e266",
   "metadata": {},
   "outputs": [
    {
     "data": {
      "text/plain": [
       "3.3333333333333335"
      ]
     },
     "execution_count": 3,
     "metadata": {},
     "output_type": "execute_result"
    }
   ],
   "source": [
    "#This will convert 200 minutes to hours by diving by 60\n",
    "200/60"
   ]
  },
  {
   "cell_type": "markdown",
   "id": "3ef54e4d-18af-42d4-9e06-a8e76ba2c9bb",
   "metadata": {},
   "source": [
    "_Objective_\n",
    "* List popular languages for Data Science\n",
    "* List popular libraries for Data Science\n",
    "* List Data Sciences programs used"
   ]
  },
  {
   "cell_type": "markdown",
   "id": "c2be5452-20d3-4f13-bece-33dc08cfd7ab",
   "metadata": {},
   "source": [
    "##Author\n",
    "JP Galik"
   ]
  },
  {
   "cell_type": "markdown",
   "id": "b58c73b0-579c-49ef-bfad-ae46612e6e23",
   "metadata": {},
   "source": [
    "## Author\n",
    "JP Galik"
   ]
  },
  {
   "cell_type": "code",
   "execution_count": null,
   "id": "d0dc79eb-2716-4cdd-ae1d-e36ba556cc23",
   "metadata": {},
   "outputs": [],
   "source": []
  }
 ],
 "metadata": {
  "kernelspec": {
   "display_name": "Python 3 (ipykernel)",
   "language": "python",
   "name": "python3"
  },
  "language_info": {
   "codemirror_mode": {
    "name": "ipython",
    "version": 3
   },
   "file_extension": ".py",
   "mimetype": "text/x-python",
   "name": "python",
   "nbconvert_exporter": "python",
   "pygments_lexer": "ipython3",
   "version": "3.12.8"
  }
 },
 "nbformat": 4,
 "nbformat_minor": 5
}
