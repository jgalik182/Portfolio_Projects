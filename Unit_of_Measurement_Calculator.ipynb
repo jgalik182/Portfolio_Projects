{
 "cells": [
  {
   "cell_type": "markdown",
   "id": "69e4a2fc-6463-48c5-ae0b-adefb008959a",
   "metadata": {},
   "source": [
    "#### Unit of Measurement Calculator"
   ]
  },
  {
   "cell_type": "code",
   "execution_count": 2,
   "id": "4a6bc85b-05cb-4304-88d3-28b81e0e7111",
   "metadata": {},
   "outputs": [
    {
     "name": "stdin",
     "output_type": "stream",
     "text": [
      "Enter Starting Unit of Measurement(inches, feet, yards):  inches\n",
      "Enter  Unit of Measurement to Convert to(inches, feet, yards):  feet\n",
      "Enter Starting Measurement in Inches:  24\n",
      "Enter Starting Measurement in Feet:  3\n",
      "Enter Starting Measurement in Yards:  1\n"
     ]
    }
   ],
   "source": [
    "convert_from = input(\"Enter Starting Unit of Measurement(inches, feet, yards): \")\n",
    "\n",
    "convert_to = input(\"Enter  Unit of Measurement to Convert to(inches, feet, yards): \")\n",
    "\n",
    "number_of_inches = input(\"Enter Starting Measurement in Inches: \")\n",
    "\n",
    "number_of_feet = input(\"Enter Starting Measurement in Feet: \")\n",
    "\n",
    "number_of_yards = input(\"Enter Starting Measurement in Yards: \")\n"
   ]
  },
  {
   "cell_type": "code",
   "execution_count": 18,
   "id": "ff7d2e4b-6a3e-4aaa-99de-9e8cd0f382af",
   "metadata": {},
   "outputs": [
    {
     "name": "stdin",
     "output_type": "stream",
     "text": [
      "Enter Starting Unit of Measurement(inches, feet, yards):  feet\n",
      "Enter  Unit of Measurement to Convert to(inches, feet, yards):  yards\n",
      "Enter Starting Measurement in Feet:  5\n"
     ]
    },
    {
     "name": "stdout",
     "output_type": "stream",
     "text": [
      "Result: 5 Feet = 1.67 Yards\n"
     ]
    }
   ],
   "source": [
    "convert_from = input(\"Enter Starting Unit of Measurement(inches, feet, yards): \")\n",
    "\n",
    "convert_to = input(\"Enter  Unit of Measurement to Convert to(inches, feet, yards): \")\n",
    "\n",
    "if convert_from.lower() in [\"inches\",\"in\",\"inch\"]:\n",
    "    number_of_inches = int(input(\"Enter Starting Measurement in Inches: \"))\n",
    "    if convert_to.lower() in [\"feet\",\"foot\",\"ft\"]:\n",
    "        print(\"Result: \" + str(number_of_inches) + \" Inches = \" + str(round(number_of_inches / 12,2)) + \" Feet\")\n",
    "    elif convert_to.lower() in [\"yards\",\"yard\",\"yds\",\"yd\"]:\n",
    "        print(\"Result: \" + str(number_of_inches) + \" Inches = \" + str(round(number_of_inches / 36,2)) + \" Yards\")\n",
    "    else:\n",
    "        print(\"Please Enter either Inches, Feet, or Yards.\")\n",
    "elif convert_from.lower() in [\"feet\",\"foot\",\"ft\"]:\n",
    "    number_of_feet = int(input(\"Enter Starting Measurement in Feet: \"))\n",
    "    if convert_to.lower() in [\"inches\",\"in\",\"inch\"]:\n",
    "        print(\"Result: \" + str(number_of_feet) + \" Feet = \" + str(round(number_of_feet * 12)) + \" Inches\")\n",
    "    elif convert_to.lower() in [\"yards\",\"yard\",\"yds\",\"yd\"]:\n",
    "        print(\"Result: \" + str(number_of_feet) + \" Feet = \" + str(round(number_of_feet / 3,2)) + \" Yards\")\n",
    "    else:\n",
    "        print(\"Please Enter either Inches, Feet, or Yards.\")\n",
    "elif convert_from.lower() in [\"yards\",\"yard\",\"yds\",\"yd\"]:\n",
    "    number_of_yards = int(input(\"Enter Starting Measurement in Yards: \"))\n",
    "    if convert_to.lower() in [\"inches\",\"in\",\"inch\"]:\n",
    "        print(\"Result: \" + str(number_of_yards) + \" Feet = \" + str(round(number_of_yards * 36)) + \" Inches\")\n",
    "    elif convert_to.lower() in [\"feet\",\"foot\",\"ft\"]:\n",
    "        print(\"Result: \" + str(number_of_yards) + \" Feet = \" + str(round(number_of_yards * 3)) + \" Feet\")\n",
    "    else:\n",
    "        print(\"Please Enter either Inches, Feet, or Yards.\")        \n",
    "else:\n",
    "    print(\"Please Enter either Inches, Feet, or Yards.\")\n",
    "    "
   ]
  },
  {
   "cell_type": "code",
   "execution_count": null,
   "id": "cf4dd335-e951-462d-92d8-68e3a05285d8",
   "metadata": {},
   "outputs": [],
   "source": []
  }
 ],
 "metadata": {
  "kernelspec": {
   "display_name": "Python [conda env:base] *",
   "language": "python",
   "name": "conda-base-py"
  },
  "language_info": {
   "codemirror_mode": {
    "name": "ipython",
    "version": 3
   },
   "file_extension": ".py",
   "mimetype": "text/x-python",
   "name": "python",
   "nbconvert_exporter": "python",
   "pygments_lexer": "ipython3",
   "version": "3.12.7"
  }
 },
 "nbformat": 4,
 "nbformat_minor": 5
}
