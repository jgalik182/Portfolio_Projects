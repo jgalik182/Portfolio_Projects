{
 "cells": [
  {
   "cell_type": "code",
   "execution_count": 1,
   "id": "c78c3149-697e-4a58-a7f2-b0e5238070d1",
   "metadata": {},
   "outputs": [
    {
     "ename": "NameError",
     "evalue": "name 'Print' is not defined",
     "output_type": "error",
     "traceback": [
      "\u001b[0;31m---------------------------------------------------------------------------\u001b[0m",
      "\u001b[0;31mNameError\u001b[0m                                 Traceback (most recent call last)",
      "Cell \u001b[0;32mIn[1], line 5\u001b[0m\n\u001b[1;32m      2\u001b[0m y \u001b[38;5;241m=\u001b[39m \u001b[38;5;124m'\u001b[39m\u001b[38;5;124mvanilla\u001b[39m\u001b[38;5;124m'\u001b[39m\n\u001b[1;32m      3\u001b[0m z \u001b[38;5;241m=\u001b[39m \u001b[38;5;124m'\u001b[39m\u001b[38;5;124mRocky Road\u001b[39m\u001b[38;5;124m'\u001b[39m\n\u001b[0;32m----> 5\u001b[0m Print(x)\n\u001b[1;32m      6\u001b[0m Print(y)\n\u001b[1;32m      7\u001b[0m Print(z)\n",
      "\u001b[0;31mNameError\u001b[0m: name 'Print' is not defined"
     ]
    }
   ],
   "source": [
    "x = 'Chocolate'\n",
    "y = 'vanilla'\n",
    "z = 'Rocky Road'\n",
    "\n",
    "Print(x)\n",
    "Print(y)\n",
    "Print(z)"
   ]
  },
  {
   "cell_type": "code",
   "execution_count": 3,
   "id": "8a95b041-3c86-4215-87bd-ddffc8603065",
   "metadata": {},
   "outputs": [],
   "source": [
    "x = 'Chocolate'\n",
    "y = 'vanilla'\n",
    "z = 'Rocky Road'"
   ]
  },
  {
   "cell_type": "code",
   "execution_count": 5,
   "id": "5f7d99b0-c32c-4526-9fd6-688c59bf8c5c",
   "metadata": {},
   "outputs": [
    {
     "name": "stdout",
     "output_type": "stream",
     "text": [
      "Chocolate\n",
      "Vanilla\n",
      "Rocky Road\n"
     ]
    }
   ],
   "source": [
    "print(x)\n",
    "print(y)\n",
    "print(z)"
   ]
  },
  {
   "cell_type": "code",
   "execution_count": 6,
   "id": "885359fb-6133-4edf-b847-bcd70ed048bd",
   "metadata": {},
   "outputs": [
    {
     "data": {
      "text/plain": [
       "str"
      ]
     },
     "execution_count": 6,
     "metadata": {},
     "output_type": "execute_result"
    }
   ],
   "source": [
    "type(x)"
   ]
  },
  {
   "cell_type": "code",
   "execution_count": 8,
   "id": "95394aea-bb57-43b8-bb86-e8a305eb668b",
   "metadata": {},
   "outputs": [
    {
     "name": "stdout",
     "output_type": "stream",
     "text": [
      "Chocolate\n",
      "Vanilla\n",
      "Rocky Road\n"
     ]
    }
   ],
   "source": [
    "x,y,z = 'Chocolate', 'Vanilla', 'Rocky Road'\n",
    "print(x)\n",
    "print(y)\n",
    "print(z)"
   ]
  },
  {
   "cell_type": "code",
   "execution_count": 9,
   "id": "a68d9596-b45e-4f63-b472-2fbd00b51927",
   "metadata": {},
   "outputs": [
    {
     "data": {
      "text/plain": [
       "str"
      ]
     },
     "execution_count": 9,
     "metadata": {},
     "output_type": "execute_result"
    }
   ],
   "source": [
    "type(x)"
   ]
  },
  {
   "cell_type": "code",
   "execution_count": 10,
   "id": "b8d96351-abf6-4a8d-8c2b-8679d51112f5",
   "metadata": {},
   "outputs": [],
   "source": [
    "x = 'Chocolate', 'Vanilla', 'Rocky Road'"
   ]
  },
  {
   "cell_type": "code",
   "execution_count": 11,
   "id": "a8ad5d2b-6f28-448c-b386-37b934b8b299",
   "metadata": {},
   "outputs": [
    {
     "name": "stdout",
     "output_type": "stream",
     "text": [
      "('Chocolate', 'Vanilla', 'Rocky Road')\n"
     ]
    }
   ],
   "source": [
    "print(x)"
   ]
  },
  {
   "cell_type": "code",
   "execution_count": 12,
   "id": "60971cee-d648-46f4-a61e-2c9ad2b4acd8",
   "metadata": {},
   "outputs": [
    {
     "data": {
      "text/plain": [
       "tuple"
      ]
     },
     "execution_count": 12,
     "metadata": {},
     "output_type": "execute_result"
    }
   ],
   "source": [
    "type(x)"
   ]
  },
  {
   "cell_type": "code",
   "execution_count": 13,
   "id": "0aec1da4-fa0b-44d8-91bb-91b7b69d47ed",
   "metadata": {},
   "outputs": [
    {
     "name": "stdout",
     "output_type": "stream",
     "text": [
      "Mint Chocolate Chip\n",
      "Mint Chocolate Chip\n",
      "Mint Chocolate Chip\n"
     ]
    }
   ],
   "source": [
    "x = y = z = 'Mint Chocolate Chip'\n",
    "\n",
    "print(x)\n",
    "print(y)\n",
    "print(z)"
   ]
  },
  {
   "cell_type": "code",
   "execution_count": 14,
   "id": "571e10f0-964b-4661-acd6-5454681857bc",
   "metadata": {},
   "outputs": [
    {
     "data": {
      "text/plain": [
       "str"
      ]
     },
     "execution_count": 14,
     "metadata": {},
     "output_type": "execute_result"
    }
   ],
   "source": [
    "type (x)"
   ]
  },
  {
   "cell_type": "code",
   "execution_count": 15,
   "id": "e809a58f-85bb-4c1d-ad06-e445ed415e75",
   "metadata": {},
   "outputs": [],
   "source": [
    "ice_cream = ['Chocolate', 'Vanilla', 7]"
   ]
  },
  {
   "cell_type": "code",
   "execution_count": 30,
   "id": "78c2d5ec-6e4d-4e94-b450-1e0e060f6f50",
   "metadata": {},
   "outputs": [
    {
     "name": "stdout",
     "output_type": "stream",
     "text": [
      "Chocolate\n",
      "Vanilla\n",
      "7\n"
     ]
    }
   ],
   "source": [
    "x, y, z = ice_cream\n",
    "print(x)\n",
    "print(y)\n",
    "print(z)\n",
    "Print "
   ]
  },
  {
   "cell_type": "code",
   "execution_count": 31,
   "id": "489466b2-4f08-498c-b159-14bd70540493",
   "metadata": {},
   "outputs": [
    {
     "name": "stdout",
     "output_type": "stream",
     "text": [
      "Chocolate\n"
     ]
    }
   ],
   "source": [
    "print(x)\n"
   ]
  },
  {
   "cell_type": "code",
   "execution_count": 32,
   "id": "bc9d611c-9ac3-4d25-8e08-eabdb6407b56",
   "metadata": {},
   "outputs": [
    {
     "data": {
      "text/plain": [
       "str"
      ]
     },
     "execution_count": 32,
     "metadata": {},
     "output_type": "execute_result"
    }
   ],
   "source": [
    "type(x)"
   ]
  },
  {
   "cell_type": "code",
   "execution_count": 33,
   "id": "8fe1983d-6b7a-4ee6-80df-b8d56d19b587",
   "metadata": {},
   "outputs": [
    {
     "data": {
      "text/plain": [
       "int"
      ]
     },
     "execution_count": 33,
     "metadata": {},
     "output_type": "execute_result"
    }
   ],
   "source": [
    "type(z)\n"
   ]
  },
  {
   "cell_type": "code",
   "execution_count": 34,
   "id": "46b13f0d-874d-4e69-b4d0-d01a443d4a06",
   "metadata": {},
   "outputs": [
    {
     "data": {
      "text/plain": [
       "list"
      ]
     },
     "execution_count": 34,
     "metadata": {},
     "output_type": "execute_result"
    }
   ],
   "source": [
    "type(ice_cream)\n"
   ]
  },
  {
   "cell_type": "code",
   "execution_count": 36,
   "id": "0916997b-b9dc-4766-af6b-a02983c22ac3",
   "metadata": {},
   "outputs": [
    {
     "name": "stdout",
     "output_type": "stream",
     "text": [
      "I love Python\n"
     ]
    }
   ],
   "source": [
    "x = 'I love'\n",
    "y = 'Python'\n",
    "print (x,y)"
   ]
  },
  {
   "cell_type": "code",
   "execution_count": 37,
   "id": "6db03dcc-ccb4-40f0-b6f4-c1b74be7c15d",
   "metadata": {},
   "outputs": [],
   "source": [
    "# Camel Case\n",
    "#Test v case\n",
    "testVariableCase = 'Vanilla Swirl'"
   ]
  },
  {
   "cell_type": "code",
   "execution_count": 38,
   "id": "05a8989b-a23a-4966-bf6c-ddd350e7e2ae",
   "metadata": {},
   "outputs": [
    {
     "name": "stdout",
     "output_type": "stream",
     "text": [
      "Vanilla Swirl\n"
     ]
    }
   ],
   "source": [
    "print(testVariableCase)"
   ]
  },
  {
   "cell_type": "code",
   "execution_count": 47,
   "id": "dbecd007-d3b0-4148-b18a-435229833b21",
   "metadata": {},
   "outputs": [],
   "source": [
    "my_string = 'I love this course!'\n"
   ]
  },
  {
   "cell_type": "code",
   "execution_count": 48,
   "id": "8797db57-9f16-44e4-b482-6604e9355957",
   "metadata": {},
   "outputs": [
    {
     "data": {
      "text/plain": [
       "'!'"
      ]
     },
     "execution_count": 48,
     "metadata": {},
     "output_type": "execute_result"
    }
   ],
   "source": [
    "my_string[18]"
   ]
  },
  {
   "cell_type": "code",
   "execution_count": 49,
   "id": "3d027dc7-c16a-48ec-9f02-18452aedee0a",
   "metadata": {},
   "outputs": [
    {
     "data": {
      "text/plain": [
       "'I lov'"
      ]
     },
     "execution_count": 49,
     "metadata": {},
     "output_type": "execute_result"
    }
   ],
   "source": [
    "#Start, Stop, Step\n",
    "\n",
    "my_string[0:5]"
   ]
  },
  {
   "cell_type": "code",
   "execution_count": 50,
   "id": "1f118ffd-fe06-43e5-86b1-05c0e06edafd",
   "metadata": {},
   "outputs": [
    {
     "data": {
      "text/plain": [
       "'I love this course!'"
      ]
     },
     "execution_count": 50,
     "metadata": {},
     "output_type": "execute_result"
    }
   ],
   "source": [
    "my_string[0:]"
   ]
  },
  {
   "cell_type": "code",
   "execution_count": 51,
   "id": "b546f7a3-eed5-4c3f-ae22-351e7a80e18e",
   "metadata": {},
   "outputs": [
    {
     "data": {
      "text/plain": [
       "'I love this'"
      ]
     },
     "execution_count": 51,
     "metadata": {},
     "output_type": "execute_result"
    }
   ],
   "source": [
    "my_string = 'I love this course!'\n",
    "\n",
    "my_string[0:11]"
   ]
  },
  {
   "cell_type": "code",
   "execution_count": 52,
   "id": "0646b8be-dce9-4beb-873a-c5d7f887bbdb",
   "metadata": {},
   "outputs": [
    {
     "data": {
      "text/plain": [
       "'Ilv hs'"
      ]
     },
     "execution_count": 52,
     "metadata": {},
     "output_type": "execute_result"
    }
   ],
   "source": [
    "my_string[0:11:2]"
   ]
  },
  {
   "cell_type": "code",
   "execution_count": 53,
   "id": "6dc91f98-3164-42fa-ad29-303186de723c",
   "metadata": {},
   "outputs": [
    {
     "data": {
      "text/plain": [
       "'!'"
      ]
     },
     "execution_count": 53,
     "metadata": {},
     "output_type": "execute_result"
    }
   ],
   "source": [
    "my_string[-1]"
   ]
  },
  {
   "cell_type": "code",
   "execution_count": 54,
   "id": "2d4a5e19-4c52-4c20-b8c7-14b187c5568c",
   "metadata": {},
   "outputs": [],
   "source": [
    "a = 5\n",
    "\n",
    "b = 10\n"
   ]
  },
  {
   "cell_type": "code",
   "execution_count": 61,
   "id": "9724ab46-da5f-442d-9ef5-bb4537534188",
   "metadata": {},
   "outputs": [
    {
     "name": "stdout",
     "output_type": "stream",
     "text": [
      "7\n"
     ]
    }
   ],
   "source": [
    "print(a)"
   ]
  },
  {
   "cell_type": "code",
   "execution_count": 56,
   "id": "074c5a25-2ede-4ef8-b956-00ddfb5308ee",
   "metadata": {},
   "outputs": [],
   "source": [
    "c = a + b"
   ]
  },
  {
   "cell_type": "code",
   "execution_count": 57,
   "id": "1cad5f5a-117f-4fcd-81b7-8aa685dc2733",
   "metadata": {},
   "outputs": [
    {
     "name": "stdout",
     "output_type": "stream",
     "text": [
      "15\n"
     ]
    }
   ],
   "source": [
    "print(c)"
   ]
  },
  {
   "cell_type": "code",
   "execution_count": 58,
   "id": "abee5541-db7d-4ab2-a224-6d634d788ca2",
   "metadata": {},
   "outputs": [],
   "source": [
    "a = 7"
   ]
  },
  {
   "cell_type": "code",
   "execution_count": 59,
   "id": "3cbec5d4-96c8-4fe0-a260-45fb884853df",
   "metadata": {},
   "outputs": [
    {
     "name": "stdout",
     "output_type": "stream",
     "text": [
      "15\n"
     ]
    }
   ],
   "source": [
    "print(c)"
   ]
  },
  {
   "cell_type": "code",
   "execution_count": 60,
   "id": "7b80b738-549b-4320-b565-3071a249f6f1",
   "metadata": {},
   "outputs": [
    {
     "name": "stdout",
     "output_type": "stream",
     "text": [
      "17\n"
     ]
    }
   ],
   "source": [
    "c = a + b\n",
    "\n",
    "print(c)"
   ]
  },
  {
   "cell_type": "code",
   "execution_count": 62,
   "id": "cbc9806f-0f3a-40c2-81dd-f24f4eeb6e66",
   "metadata": {},
   "outputs": [
    {
     "data": {
      "text/plain": [
       "int"
      ]
     },
     "execution_count": 62,
     "metadata": {},
     "output_type": "execute_result"
    }
   ],
   "source": [
    "type(10000)"
   ]
  },
  {
   "cell_type": "code",
   "execution_count": 63,
   "id": "dcda9dd1-cf20-4005-bd39-de4b93ea44b9",
   "metadata": {},
   "outputs": [
    {
     "data": {
      "text/plain": [
       "int"
      ]
     },
     "execution_count": 63,
     "metadata": {},
     "output_type": "execute_result"
    }
   ],
   "source": [
    "type(-1100)"
   ]
  },
  {
   "cell_type": "code",
   "execution_count": 64,
   "id": "dd9459d0-45ef-49ed-8f6a-f7e9c8adbab5",
   "metadata": {},
   "outputs": [
    {
     "data": {
      "text/plain": [
       "15"
      ]
     },
     "execution_count": 64,
     "metadata": {},
     "output_type": "execute_result"
    }
   ],
   "source": [
    "5+10"
   ]
  },
  {
   "cell_type": "code",
   "execution_count": 65,
   "id": "bdbd9c60-adfb-45ce-a1fc-063aaa938507",
   "metadata": {},
   "outputs": [
    {
     "data": {
      "text/plain": [
       "15.5"
      ]
     },
     "execution_count": 65,
     "metadata": {},
     "output_type": "execute_result"
    }
   ],
   "source": [
    "5 + 10.5"
   ]
  },
  {
   "cell_type": "code",
   "execution_count": 66,
   "id": "a64a73b4-c665-4692-a91a-8a655860cd63",
   "metadata": {},
   "outputs": [
    {
     "data": {
      "text/plain": [
       "float"
      ]
     },
     "execution_count": 66,
     "metadata": {},
     "output_type": "execute_result"
    }
   ],
   "source": [
    "type(5+ 10.5)"
   ]
  },
  {
   "cell_type": "code",
   "execution_count": 67,
   "id": "5061d3f2-a9b6-4aac-b1b3-562265ff5aee",
   "metadata": {},
   "outputs": [
    {
     "data": {
      "text/plain": [
       "5"
      ]
     },
     "execution_count": 67,
     "metadata": {},
     "output_type": "execute_result"
    }
   ],
   "source": [
    "round(2.1+2.9)"
   ]
  },
  {
   "cell_type": "code",
   "execution_count": 68,
   "id": "9f5edbb4-4a5f-4910-a08b-b2f288352441",
   "metadata": {},
   "outputs": [
    {
     "data": {
      "text/plain": [
       "int"
      ]
     },
     "execution_count": 68,
     "metadata": {},
     "output_type": "execute_result"
    }
   ],
   "source": [
    "type(round(2.1+2.9))\n"
   ]
  },
  {
   "cell_type": "code",
   "execution_count": 69,
   "id": "c724915c-911f-49e3-826b-4ef06e2acf66",
   "metadata": {},
   "outputs": [
    {
     "ename": "NameError",
     "evalue": "name 'false' is not defined",
     "output_type": "error",
     "traceback": [
      "\u001b[0;31m---------------------------------------------------------------------------\u001b[0m",
      "\u001b[0;31mNameError\u001b[0m                                 Traceback (most recent call last)",
      "Cell \u001b[0;32mIn[69], line 1\u001b[0m\n\u001b[0;32m----> 1\u001b[0m \u001b[38;5;28mtype\u001b[39m(false)\n",
      "\u001b[0;31mNameError\u001b[0m: name 'false' is not defined"
     ]
    }
   ],
   "source": [
    "type(false)"
   ]
  },
  {
   "cell_type": "code",
   "execution_count": 70,
   "id": "5da9c397-2896-4312-ad58-9d57dcfe19d4",
   "metadata": {},
   "outputs": [
    {
     "data": {
      "text/plain": [
       "False"
      ]
     },
     "execution_count": 70,
     "metadata": {},
     "output_type": "execute_result"
    }
   ],
   "source": [
    "1 > 5"
   ]
  },
  {
   "cell_type": "code",
   "execution_count": 72,
   "id": "e8d92ad2-6e25-4c05-a663-bfed7f93088f",
   "metadata": {},
   "outputs": [
    {
     "data": {
      "text/plain": [
       "bool"
      ]
     },
     "execution_count": 72,
     "metadata": {},
     "output_type": "execute_result"
    }
   ],
   "source": [
    "type(1 > 5)"
   ]
  },
  {
   "cell_type": "code",
   "execution_count": 76,
   "id": "7696dc5b-a842-4fe7-8a18-c412871038ad",
   "metadata": {},
   "outputs": [],
   "source": [
    "x = 'Single \\tQuote'\n",
    "\n"
   ]
  },
  {
   "cell_type": "code",
   "execution_count": 77,
   "id": "20317c13-7109-4715-9b26-208e3d05a202",
   "metadata": {},
   "outputs": [
    {
     "name": "stdout",
     "output_type": "stream",
     "text": [
      "Single \tQuote\n"
     ]
    }
   ],
   "source": [
    "print(x)"
   ]
  },
  {
   "cell_type": "code",
   "execution_count": 78,
   "id": "4d74851f-917c-4b38-9ab5-d5e989fb4432",
   "metadata": {},
   "outputs": [
    {
     "data": {
      "text/plain": [
       "'Hello!Hello!Hello!'"
      ]
     },
     "execution_count": 78,
     "metadata": {},
     "output_type": "execute_result"
    }
   ],
   "source": [
    "\"Hello!\" * 3"
   ]
  },
  {
   "cell_type": "code",
   "execution_count": 79,
   "id": "34fd6bc2-32ae-4909-876e-00c5f6234f5f",
   "metadata": {},
   "outputs": [
    {
     "data": {
      "text/plain": [
       "'HelloWorld'"
      ]
     },
     "execution_count": 79,
     "metadata": {},
     "output_type": "execute_result"
    }
   ],
   "source": [
    "'Hello' + 'World'"
   ]
  },
  {
   "cell_type": "code",
   "execution_count": 80,
   "id": "e52be512-b4b8-4654-85d6-0c166ef3ca2a",
   "metadata": {},
   "outputs": [],
   "source": [
    "x = 'Happy Friday'"
   ]
  },
  {
   "cell_type": "code",
   "execution_count": 81,
   "id": "d29cc50e-a829-4cd2-a2d9-22239e749edb",
   "metadata": {},
   "outputs": [
    {
     "ename": "TypeError",
     "evalue": "'str' object doesn't support item deletion",
     "output_type": "error",
     "traceback": [
      "\u001b[0;31m---------------------------------------------------------------------------\u001b[0m",
      "\u001b[0;31mTypeError\u001b[0m                                 Traceback (most recent call last)",
      "Cell \u001b[0;32mIn[81], line 1\u001b[0m\n\u001b[0;32m----> 1\u001b[0m \u001b[38;5;28;01mdel\u001b[39;00m x[\u001b[38;5;241m1\u001b[39m]\n",
      "\u001b[0;31mTypeError\u001b[0m: 'str' object doesn't support item deletion"
     ]
    }
   ],
   "source": [
    "del x[1]"
   ]
  },
  {
   "cell_type": "code",
   "execution_count": 82,
   "id": "c43e3102-f36c-461f-9eb9-6699aecf3968",
   "metadata": {},
   "outputs": [],
   "source": [
    "del x"
   ]
  },
  {
   "cell_type": "code",
   "execution_count": 83,
   "id": "cefcbce7-fab4-4821-8cc9-915aed6d8be2",
   "metadata": {},
   "outputs": [
    {
     "ename": "NameError",
     "evalue": "name 'x' is not defined",
     "output_type": "error",
     "traceback": [
      "\u001b[0;31m---------------------------------------------------------------------------\u001b[0m",
      "\u001b[0;31mNameError\u001b[0m                                 Traceback (most recent call last)",
      "Cell \u001b[0;32mIn[83], line 1\u001b[0m\n\u001b[0;32m----> 1\u001b[0m \u001b[38;5;28mprint\u001b[39m(x)\n",
      "\u001b[0;31mNameError\u001b[0m: name 'x' is not defined"
     ]
    }
   ],
   "source": [
    "print(x)"
   ]
  },
  {
   "cell_type": "code",
   "execution_count": 84,
   "id": "3c3b6cea-05e9-426a-b128-b12689b82903",
   "metadata": {},
   "outputs": [
    {
     "data": {
      "text/plain": [
       "[1, 2, 3]"
      ]
     },
     "execution_count": 84,
     "metadata": {},
     "output_type": "execute_result"
    }
   ],
   "source": [
    "[1, 2, 3]"
   ]
  },
  {
   "cell_type": "code",
   "execution_count": 85,
   "id": "ec995802-e635-4055-afd9-1eb1665c9693",
   "metadata": {},
   "outputs": [
    {
     "data": {
      "text/plain": [
       "list"
      ]
     },
     "execution_count": 85,
     "metadata": {},
     "output_type": "execute_result"
    }
   ],
   "source": [
    "type([1, 2, 3])"
   ]
  },
  {
   "cell_type": "code",
   "execution_count": 86,
   "id": "66dc1df0-fcb0-4766-839a-daacd269b674",
   "metadata": {},
   "outputs": [
    {
     "name": "stdout",
     "output_type": "stream",
     "text": [
      "[1, 'Cat', ['Meow', 50, 'Fur'], 10.75, True]\n"
     ]
    }
   ],
   "source": [
    "cat_list = [1, 'Cat', ['Meow', 50, 'Fur'], 10.75, True]\n",
    "print(cat_list)"
   ]
  },
  {
   "cell_type": "code",
   "execution_count": 87,
   "id": "2752654e-51a1-4e1c-a8a1-c9eb55cabebe",
   "metadata": {},
   "outputs": [],
   "source": [
    "cat_list.append('Kitten')"
   ]
  },
  {
   "cell_type": "code",
   "execution_count": 88,
   "id": "20970a2d-6068-4893-93ad-d33b7b7e0de3",
   "metadata": {},
   "outputs": [
    {
     "name": "stdout",
     "output_type": "stream",
     "text": [
      "[1, 'Cat', ['Meow', 50, 'Fur'], 10.75, True, 'Kitten']\n"
     ]
    }
   ],
   "source": [
    "print(cat_list)"
   ]
  },
  {
   "cell_type": "code",
   "execution_count": 89,
   "id": "2590fef1-b1a7-4f51-8d60-be24781bb007",
   "metadata": {},
   "outputs": [],
   "source": [
    "cat_list[0] = 10"
   ]
  },
  {
   "cell_type": "code",
   "execution_count": 90,
   "id": "de302b5b-17ac-4bc9-95f8-f7a0e5360f9a",
   "metadata": {},
   "outputs": [
    {
     "name": "stdout",
     "output_type": "stream",
     "text": [
      "[10, 'Cat', ['Meow', 50, 'Fur'], 10.75, True, 'Kitten']\n"
     ]
    }
   ],
   "source": [
    "print(cat_list)"
   ]
  },
  {
   "cell_type": "code",
   "execution_count": 91,
   "id": "a873a25d-36a4-46cc-a0e0-5422dc2c1761",
   "metadata": {},
   "outputs": [
    {
     "data": {
      "text/plain": [
       "['Meow', 50, 'Fur']"
      ]
     },
     "execution_count": 91,
     "metadata": {},
     "output_type": "execute_result"
    }
   ],
   "source": [
    "cat_list[2]"
   ]
  },
  {
   "cell_type": "code",
   "execution_count": 97,
   "id": "04ceee11-870f-4ea0-9a66-e067e77d7cd8",
   "metadata": {},
   "outputs": [
    {
     "data": {
      "text/plain": [
       "'M'"
      ]
     },
     "execution_count": 97,
     "metadata": {},
     "output_type": "execute_result"
    }
   ],
   "source": [
    "cat_list[2][0][0]"
   ]
  },
  {
   "cell_type": "code",
   "execution_count": 98,
   "id": "c5b831fb-dcd9-48f2-a626-387035c6f006",
   "metadata": {},
   "outputs": [],
   "source": [
    "list_1 = [1, 'Great!']\n",
    "list_2 = [2, 'Wonderful!']"
   ]
  },
  {
   "cell_type": "code",
   "execution_count": 99,
   "id": "7d3d4368-003d-4890-a6bb-ab655f870601",
   "metadata": {},
   "outputs": [],
   "source": [
    "list_3 = list_1 + list_2"
   ]
  },
  {
   "cell_type": "code",
   "execution_count": 100,
   "id": "76a2ac84-6cb1-4388-8938-71962c59eeca",
   "metadata": {},
   "outputs": [
    {
     "name": "stdout",
     "output_type": "stream",
     "text": [
      "[1, 'Great!', 2, 'Wonderful!']\n"
     ]
    }
   ],
   "source": [
    "print(list_3)"
   ]
  },
  {
   "cell_type": "code",
   "execution_count": 102,
   "id": "852420ce-74a9-4e63-9750-e6adbec869ee",
   "metadata": {},
   "outputs": [
    {
     "data": {
      "text/plain": [
       "(1, 2, 3)"
      ]
     },
     "execution_count": 102,
     "metadata": {},
     "output_type": "execute_result"
    }
   ],
   "source": [
    "(1, 2, 3)"
   ]
  },
  {
   "cell_type": "code",
   "execution_count": 104,
   "id": "4e623820-ea63-46ff-a738-39c9287cdfb6",
   "metadata": {},
   "outputs": [
    {
     "data": {
      "text/plain": [
       "tuple"
      ]
     },
     "execution_count": 104,
     "metadata": {},
     "output_type": "execute_result"
    }
   ],
   "source": [
    "type((1, 2, 3))"
   ]
  },
  {
   "cell_type": "code",
   "execution_count": 105,
   "id": "7293550f-f2e3-4fb4-9558-530c91376135",
   "metadata": {},
   "outputs": [],
   "source": [
    "first_set = {1,2,3}"
   ]
  },
  {
   "cell_type": "code",
   "execution_count": 106,
   "id": "ae2fd0d4-7107-4e59-b2a5-a5a000b1df16",
   "metadata": {},
   "outputs": [
    {
     "name": "stdout",
     "output_type": "stream",
     "text": [
      "{1, 2, 3}\n"
     ]
    }
   ],
   "source": [
    "print(first_set)"
   ]
  },
  {
   "cell_type": "code",
   "execution_count": 107,
   "id": "e2633609-ff72-48ab-94ee-dea58e327b19",
   "metadata": {},
   "outputs": [
    {
     "name": "stdout",
     "output_type": "stream",
     "text": [
      "{'Name': 'Jimmy John', 'Flavor Purchased': ['Mint Chocolate Chip', 'Vanilla', 'Chocolate'], 'Age': '40'}\n"
     ]
    }
   ],
   "source": [
    "ice_cream_customer = {'Name':'Jimmy John', 'Flavor Purchased': ['Mint Chocolate Chip', 'Vanilla', 'Chocolate'], 'Age': '40'}\n",
    "print(ice_cream_customer)"
   ]
  },
  {
   "cell_type": "code",
   "execution_count": 108,
   "id": "553cfd09-6006-4c8f-a0d3-aabb32f00766",
   "metadata": {},
   "outputs": [
    {
     "data": {
      "text/plain": [
       "dict"
      ]
     },
     "execution_count": 108,
     "metadata": {},
     "output_type": "execute_result"
    }
   ],
   "source": [
    "type(ice_cream_customer)"
   ]
  },
  {
   "cell_type": "code",
   "execution_count": 109,
   "id": "417452ce-4ab7-441e-bc84-16fa95164a21",
   "metadata": {},
   "outputs": [
    {
     "data": {
      "text/plain": [
       "dict_keys(['Name', 'Flavor Purchased', 'Age'])"
      ]
     },
     "execution_count": 109,
     "metadata": {},
     "output_type": "execute_result"
    }
   ],
   "source": [
    "ice_cream_customer.keys()"
   ]
  },
  {
   "cell_type": "code",
   "execution_count": 110,
   "id": "dc88229d-7642-4622-8474-9e8f0dbb1d44",
   "metadata": {},
   "outputs": [
    {
     "data": {
      "text/plain": [
       "dict_values(['Jimmy John', ['Mint Chocolate Chip', 'Vanilla', 'Chocolate'], '40'])"
      ]
     },
     "execution_count": 110,
     "metadata": {},
     "output_type": "execute_result"
    }
   ],
   "source": [
    "ice_cream_customer.values()"
   ]
  },
  {
   "cell_type": "code",
   "execution_count": 112,
   "id": "d3de63f9-0e10-4475-b2a2-77b3f5c29e2f",
   "metadata": {},
   "outputs": [
    {
     "data": {
      "text/plain": [
       "dict_items([('Name', 'Jimmy John'), ('Flavor Purchased', ['Mint Chocolate Chip', 'Vanilla', 'Chocolate']), ('Age', '40')])"
      ]
     },
     "execution_count": 112,
     "metadata": {},
     "output_type": "execute_result"
    }
   ],
   "source": [
    "ice_cream_customer.items()"
   ]
  },
  {
   "cell_type": "code",
   "execution_count": 114,
   "id": "b084b1d4-99d1-4475-9dc6-dc16f77d56b5",
   "metadata": {},
   "outputs": [
    {
     "data": {
      "text/plain": [
       "'Jimmy John'"
      ]
     },
     "execution_count": 114,
     "metadata": {},
     "output_type": "execute_result"
    }
   ],
   "source": [
    "ice_cream_customer['Name']"
   ]
  },
  {
   "cell_type": "code",
   "execution_count": 115,
   "id": "5c4d41c2-0705-49a4-8a21-2fc48bd58c47",
   "metadata": {},
   "outputs": [],
   "source": [
    "num_int = 7"
   ]
  },
  {
   "cell_type": "code",
   "execution_count": 116,
   "id": "99e4a172-aa50-4be6-b06a-b76eedaf72f6",
   "metadata": {},
   "outputs": [
    {
     "name": "stdout",
     "output_type": "stream",
     "text": [
      "6.363636363636363\n"
     ]
    }
   ],
   "source": [
    "num_float = 1.1\n",
    "\n",
    "num_imp_conv = num_int/num_float\n",
    "\n",
    "print(num_imp_conv)"
   ]
  },
  {
   "cell_type": "code",
   "execution_count": 117,
   "id": "1cfc2d6d-9833-4666-8371-b9dc7919c8d4",
   "metadata": {},
   "outputs": [
    {
     "data": {
      "text/plain": [
       "False"
      ]
     },
     "execution_count": 117,
     "metadata": {},
     "output_type": "execute_result"
    }
   ],
   "source": [
    "10 == 50"
   ]
  },
  {
   "cell_type": "code",
   "execution_count": 118,
   "id": "67fba224-0bca-4164-9e4f-f9a8bb0ee2ba",
   "metadata": {},
   "outputs": [
    {
     "data": {
      "text/plain": [
       "True"
      ]
     },
     "execution_count": 118,
     "metadata": {},
     "output_type": "execute_result"
    }
   ],
   "source": [
    "10 == 10"
   ]
  },
  {
   "cell_type": "code",
   "execution_count": 119,
   "id": "8253c7af-a8ab-4569-ae7c-a3c6221da940",
   "metadata": {},
   "outputs": [
    {
     "data": {
      "text/plain": [
       "False"
      ]
     },
     "execution_count": 119,
     "metadata": {},
     "output_type": "execute_result"
    }
   ],
   "source": [
    "10 < 10"
   ]
  },
  {
   "cell_type": "code",
   "execution_count": 120,
   "id": "f0f94f81-1715-41fe-97f3-955b681255f8",
   "metadata": {},
   "outputs": [
    {
     "data": {
      "text/plain": [
       "True"
      ]
     },
     "execution_count": 120,
     "metadata": {},
     "output_type": "execute_result"
    }
   ],
   "source": [
    "10 <= 10"
   ]
  },
  {
   "cell_type": "code",
   "execution_count": 123,
   "id": "c1b9ba78-c3c4-43c2-822e-f9d283fde335",
   "metadata": {},
   "outputs": [
    {
     "name": "stdout",
     "output_type": "stream",
     "text": [
      "It worked\n"
     ]
    }
   ],
   "source": [
    "if 100 > 10:\n",
    "    print('It worked')"
   ]
  },
  {
   "cell_type": "code",
   "execution_count": 125,
   "id": "e2215b49-9063-4b8b-9ccc-58972b0f8920",
   "metadata": {},
   "outputs": [
    {
     "name": "stdout",
     "output_type": "stream",
     "text": [
      "It did not work\n"
     ]
    }
   ],
   "source": [
    "if 100 < 10:\n",
    "    print('It worked')\n",
    "else:\n",
    "    print('It did not work')"
   ]
  },
  {
   "cell_type": "code",
   "execution_count": 129,
   "id": "5c3c0486-76bb-41ff-a737-27358465b3da",
   "metadata": {},
   "outputs": [
    {
     "name": "stdout",
     "output_type": "stream",
     "text": [
      "Let them in\n"
     ]
    }
   ],
   "source": [
    "invitee_list = ['Josh Hibbard', 'John klows', 'carry underwood', 'Alex']\n",
    "\n",
    "if 'Alex' in invitee_list:\n",
    "    print('Let them in')\n",
    "else:\n",
    "    print('Do not')\n",
    "    \n",
    "\n"
   ]
  },
  {
   "cell_type": "code",
   "execution_count": 133,
   "id": "747c4b09-0898-4737-a08c-dfbd045abf92",
   "metadata": {},
   "outputs": [
    {
     "name": "stdout",
     "output_type": "stream",
     "text": [
      "The price is 5 dolalrs. This is cheap.\n"
     ]
    }
   ],
   "source": [
    "price = 5\n",
    "\n",
    "if price < 10:\n",
    "    print('The price is ' + str(price) + ' dolalrs. This is cheap.')\n",
    "elif price < 40:\n",
    "    print('This is moderate')\n",
    "elif price < 100:\n",
    "    print('somewhat')\n",
    "else:\n",
    "    print('expensive')"
   ]
  },
  {
   "cell_type": "code",
   "execution_count": 135,
   "id": "b8d2e174-4387-4466-98ae-71b499408df6",
   "metadata": {},
   "outputs": [],
   "source": [
    "small_sale = []\n",
    "medium_sale = []\n",
    "large_sale = []\n"
   ]
  },
  {
   "cell_type": "code",
   "execution_count": 142,
   "id": "d62c0742-1d9f-40ad-9bf3-e472b33adf97",
   "metadata": {},
   "outputs": [
    {
     "name": "stdout",
     "output_type": "stream",
     "text": [
      "small_sale:  []\n",
      "medium_sale:  [10]\n",
      "large_sale:  [1000, 5, 10, 100, 10]\n"
     ]
    }
   ],
   "source": [
    "sale = 10\n",
    "\n",
    "if sale < 10:\n",
    "    small_sale.append(sale)\n",
    "elif sale < 75:\n",
    "    medium_sale.append(sale)\n",
    "else:\n",
    "    large_sale.append(sale)\n",
    "\n",
    "print('small_sale: ', small_sale)\n",
    "print('medium_sale: ', medium_sale)\n",
    "print('large_sale: ', large_sale)\n"
   ]
  },
  {
   "cell_type": "code",
   "execution_count": 144,
   "id": "73a09fa9-914f-452c-9878-8f67fea7f00b",
   "metadata": {},
   "outputs": [
    {
     "name": "stdout",
     "output_type": "stream",
     "text": [
      "99 = A+\n"
     ]
    }
   ],
   "source": [
    "grade = 99\n",
    "\n",
    "if grade >= 90:\n",
    "    if grade >= 97:\n",
    "        print(str(grade) + ' = A+')\n",
    "    elif grade >= 93:\n",
    "        print(str(grade) + ' = A-')"
   ]
  },
  {
   "cell_type": "code",
   "execution_count": 145,
   "id": "e46247d4-3c52-4822-b4de-59a55f744652",
   "metadata": {},
   "outputs": [],
   "source": [
    "integers = [1,2,3,4,5]"
   ]
  },
  {
   "cell_type": "code",
   "execution_count": 146,
   "id": "74b368d4-556f-4dc4-8cc8-d8feda305b34",
   "metadata": {},
   "outputs": [
    {
     "name": "stdout",
     "output_type": "stream",
     "text": [
      "1\n",
      "2\n",
      "3\n",
      "4\n",
      "5\n"
     ]
    }
   ],
   "source": [
    "for number in integers:\n",
    "    print(number)"
   ]
  },
  {
   "cell_type": "code",
   "execution_count": 147,
   "id": "f6eda2f2-95a0-49b2-a8ba-0f0b2bba4553",
   "metadata": {},
   "outputs": [
    {
     "name": "stdout",
     "output_type": "stream",
     "text": [
      "1\n",
      "4\n",
      "27\n",
      "256\n",
      "3125\n"
     ]
    }
   ],
   "source": [
    "integers = [1,2,3,4,5]\n",
    "\n",
    "for num in integers:\n",
    "    power_of_num = num**num\n",
    "    print(power_of_num)"
   ]
  },
  {
   "cell_type": "code",
   "execution_count": 149,
   "id": "1a92d033-31d2-4f95-9304-7fb694ea133c",
   "metadata": {},
   "outputs": [
    {
     "name": "stdout",
     "output_type": "stream",
     "text": [
      "Small Sale:  [1]\n",
      "Medium Sale:  [10, 45]\n",
      "Large Sale:  [75.75, 100, 1000, 80]\n"
     ]
    }
   ],
   "source": [
    "sale_amount = [1,10,75.75,100,1000,80,45]\n",
    "\n",
    "same_sale = []\n",
    "medium_sale = []\n",
    "large_sale = []\n",
    "\n",
    "for sale in sale_amount:\n",
    "    if sale < 10:\n",
    "        small_sale.append(sale)\n",
    "    elif sale < 75:\n",
    "        medium_sale.append(sale)\n",
    "    else:\n",
    "        large_sale.append(sale)\n",
    "\n",
    "print('Small Sale: ', small_sale)\n",
    "print('Medium Sale: ', medium_sale)\n",
    "print('Large Sale: ', large_sale)"
   ]
  },
  {
   "cell_type": "code",
   "execution_count": 152,
   "id": "0e243721-8e4e-4a74-bd4a-c7990b01789d",
   "metadata": {},
   "outputs": [
    {
     "name": "stdout",
     "output_type": "stream",
     "text": [
      "[0, 3, 6, 9, 12, 15, 18, 21, 24, 27, 30, 33, 36, 39, 42, 45, 48, 51, 54, 57, 60, 63, 66, 69, 72, 75, 78, 81, 84, 87, 90, 93, 96, 99]\n"
     ]
    }
   ],
   "source": [
    "divis_by_three = []\n",
    "\n",
    "for num in range(100):\n",
    "    if num % 3 == 0:\n",
    "        divis_by_three.append(num)\n",
    "\n",
    "print(divis_by_three)"
   ]
  },
  {
   "cell_type": "code",
   "execution_count": null,
   "id": "8f26f633-693d-4f06-8bde-ea3be577ddbf",
   "metadata": {},
   "outputs": [],
   "source": []
  }
 ],
 "metadata": {
  "kernelspec": {
   "display_name": "Python [conda env:base] *",
   "language": "python",
   "name": "conda-base-py"
  },
  "language_info": {
   "codemirror_mode": {
    "name": "ipython",
    "version": 3
   },
   "file_extension": ".py",
   "mimetype": "text/x-python",
   "name": "python",
   "nbconvert_exporter": "python",
   "pygments_lexer": "ipython3",
   "version": "3.12.7"
  }
 },
 "nbformat": 4,
 "nbformat_minor": 5
}
